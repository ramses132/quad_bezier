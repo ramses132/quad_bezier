{
 "cells": [
  {
   "cell_type": "code",
   "execution_count": 25,
   "metadata": {},
   "outputs": [
    {
     "name": "stdout",
     "output_type": "stream",
     "text": [
      "reading...  data.txt\n",
      "calculating...\n",
      "data:  [(0.0, 0.0), (0.1, 0.2), (0.9, 0.9), (1.0, 0.9)]\n",
      "plotting...\n"
     ]
    },
    {
     "data": {
      "image/png": "[encoded data removed]",
      "text/plain": [
       "<Figure size 432x288 with 1 Axes>"
      ]
     },
     "metadata": {
      "needs_background": "light"
     },
     "output_type": "display_data"
    },
    {
     "name": "stdout",
     "output_type": "stream",
     "text": [
      "done!\n"
     ]
    }
   ],
   "source": [
    "import matplotlib.path as mpath\n",
    "import matplotlib.patches as mpatches\n",
    "import matplotlib.pyplot as plt\n",
    "import csv\n",
    "import os\n",
    "                 \n",
    "file_name = 'data.txt'\n",
    "dir_path = os.getcwd()\n",
    "file_path = os.path.join(dir_path, file_name)\n",
    "\n",
    "try:\n",
    "    with open(file_path, 'r') as file:\n",
    "        print('reading... ', file_name)\n",
    "        data = list(csv.reader(file, delimiter=';'))\n",
    "        if not data:\n",
    "            print(\"no data in file: \", file_name)\n",
    "        else:\n",
    "            print(\"calculating...\")\n",
    "            \n",
    "            Path = mpath.Path  \n",
    "            data = [(float(x), float(y)) for x,y in data]\n",
    "            print('data: ',data)\n",
    "            \n",
    "            codes = [Path.MOVETO, Path.CURVE4, Path.CURVE4, Path.CURVE4]\n",
    "            path = Path(data, codes)\n",
    "            fig, ax = plt.subplots()\n",
    "            patch = mpatches.PathPatch(path, facecolor='none', lw=2, transform=ax.transData)\n",
    "            xp, yp = zip(*data)\n",
    "            ax.plot(xp,yp, 'x--',2,color='red',ms=10)\n",
    "            ax.add_patch(patch)\n",
    "            for i, p in enumerate(data):\n",
    "                ax.text(p[0]-0.05,p[1]-0.05,'P'+str(i))\n",
    "            ax.set_xlim(-0.1, 1.1)\n",
    "            ax.set_ylim(-0.1, 1.1)\n",
    "            # ax.vlines(xp, -0.09,yp,linestyle=\"dashed\",lw=2)\n",
    "            # ax.hlines(yp, -0.09,xp, linestyle=\"dashed\",lw=2)\n",
    "           \n",
    "            ax.set_title('Quad Bezier Curve')\n",
    "            print('plotting...')\n",
    "            plt.show()\n",
    "            \n",
    "except IOError:\n",
    "    print(\"Could not read file: \", file_name)\n",
    "    \n",
    "print('done!')"
   ]
  },
  {
   "cell_type": "code",
   "execution_count": 2,
   "metadata": {},
   "outputs": [],
   "source": []
  },
  {
   "cell_type": "code",
   "execution_count": null,
   "metadata": {},
   "outputs": [],
   "source": []
  }
 ],
 "metadata": {
  "kernelspec": {
   "display_name": "Python 3",
   "language": "python",
   "name": "python3"
  },
  "language_info": {
   "codemirror_mode": {
    "name": "ipython",
    "version": 3
   },
   "file_extension": ".py",
   "mimetype": "text/x-python",
   "name": "python",
   "nbconvert_exporter": "python",
   "pygments_lexer": "ipython3",
   "version": "3.6.6"
  }
 },
 "nbformat": 4,
 "nbformat_minor": 2
}
